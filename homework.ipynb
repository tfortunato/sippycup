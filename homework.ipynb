{
 "cells": [
  {
   "cell_type": "code",
   "execution_count": 1,
   "metadata": {
    "collapsed": true
   },
   "outputs": [],
   "source": [
    "#!/usr/bin/env python\n",
    "# -*- coding: utf-8 -*-"
   ]
  },
  {
   "cell_type": "markdown",
   "metadata": {},
   "source": [
    "# [CS224U](https://web.stanford.edu/class/cs224u/) Homework 5\n",
    "\n",
    "This homework is distributed in three content-identical formats (html, py, ipynb) as part of the SippyCup codebase. All seven problems are required. You're encouraged to turn your work in as iPython HTML output or as a Python script. This work is due by the start of class on May 16.\n",
    "\n",
    "Be sure to put this code, or run this notebook, inside [the SippyCup codebase](https://github.com/wcmac/sippycup).\n",
    "\n",
    "* [Arithmetic domain](#Arithmetic-domain)\n",
    "  * [Question 1](#Question-1)\n",
    "  * [Question 2](#Question-2)\n",
    "  * [Question 3](#Question-3)\n",
    "  \n",
    "* [Travel domain](#Travel-domain)  \n",
    "  * [Question 4](#Question-4)\n",
    "  * [Question 5](#Question-5)\n",
    "  \n",
    "* [GeoQuery domain](#GeoQuery-domain)  \n",
    "  * [Question 6](#Question-6)\n",
    "  * [Question 7](#Question-7)"
   ]
  },
  {
   "cell_type": "markdown",
   "metadata": {},
   "source": [
    "## Arithmetic domain\n",
    "\n",
    "SippyCup includes a module `arithmetic` with a class `ArithmeticDomain` that brings together\n",
    "the examples from unit 1. Here's an example of the sort of use you'll make of this domain\n",
    "for these homework problems."
   ]
  },
  {
   "cell_type": "code",
   "execution_count": 2,
   "metadata": {
    "collapsed": false
   },
   "outputs": [
    {
     "name": "stdout",
     "output_type": "stream",
     "text": [
      "Created grammar with 11 rules\n",
      "\n",
      "Parse:\n",
      " [($E ('~', ('+', 2, 3)))\n",
      "  [($UnOp ~) minus]\n",
      "  [($E ('+', 2, 3)) [($EBO ('+', 2)) [($E 2) two] [($BinOp +) plus]] [($E 3) three]]\n",
      "]\n",
      "Denotation: -5\n",
      "\n",
      "Parse:\n",
      " [($E ('+', ('~', 2), 3))\n",
      "  [($EBO ('+', ('~', 2))) [($E ('~', 2)) [($UnOp ~) minus] [($E 2) two]] [($BinOp +) plus]]\n",
      "  [($E 3) three]\n",
      "]\n",
      "Denotation: 1\n"
     ]
    }
   ],
   "source": [
    "from arithmetic import ArithmeticDomain\n",
    "from parsing import parse_to_pretty_string\n",
    "\n",
    "# Import the domain and make sure all is well:\n",
    "math_domain = ArithmeticDomain()\n",
    "\n",
    "# Core grammar:\n",
    "math_grammar = math_domain.grammar()\n",
    "\n",
    "# A few examples:\n",
    "parses = math_grammar.parse_input(\"minus two plus three\")\n",
    "for parse in parses:\n",
    "    print('\\nParse:\\n', parse_to_pretty_string(parse, show_sem=True))\n",
    "    print('Denotation:', math_domain.execute(parse.semantics))"
   ]
  },
  {
   "cell_type": "markdown",
   "metadata": {},
   "source": [
    "This is a convenience function we'll use for seeing what the grammar is doing:"
   ]
  },
  {
   "cell_type": "code",
   "execution_count": 3,
   "metadata": {
    "collapsed": true
   },
   "outputs": [],
   "source": [
    "def display_examples(utterances, grammar=None, domain=None):\n",
    "    for utterance in utterances:        \n",
    "        print(\"=\"*70)\n",
    "        print(utterance)\n",
    "        parses = grammar.parse_input(utterance)\n",
    "        for parse in parses:\n",
    "            print('\\nParse:\\n', parse_to_pretty_string(parse, show_sem=True))\n",
    "            print('Denotation:', domain.execute(parse.semantics))"
   ]
  },
  {
   "cell_type": "markdown",
   "metadata": {},
   "source": [
    "### Question 1\n",
    "\n",
    "Your task is to extend `ArithmeticDomain` to include the unary operators `squared` and `cubed`, \n",
    "which form expressions like `three squared` and `nine cubed`. The following code will help\n",
    "you get started on this. __Submit__: your completion of this code."
   ]
  },
  {
   "cell_type": "code",
   "execution_count": 48,
   "metadata": {
    "collapsed": false
   },
   "outputs": [
    {
     "name": "stdout",
     "output_type": "stream",
     "text": [
      "Created grammar with 11 rules\n",
      "{'OpCube': <function <lambda> at 0x7f558ee1b158>, '*': <function ArithmeticDomain.<lambda> at 0x7f558edeb8c8>, 'OpSqr': <function <lambda> at 0x7f558ee1b488>, '-': <function ArithmeticDomain.<lambda> at 0x7f558edeb840>, '+': <function ArithmeticDomain.<lambda> at 0x7f558edeb7b8>, 'blah': <function <lambda> at 0x7f558f6f8bf8>, '~': <function ArithmeticDomain.<lambda> at 0x7f558edeb730>}\n",
      "======================================================================\n",
      "three squared\n",
      "\n",
      "Parse:\n",
      " [($E ('OpSqr', 3)) [($E 3) three] [($UnOpPost OpSqr) squared]]\n",
      "Denotation: 9\n",
      "======================================================================\n",
      "minus three squared\n",
      "\n",
      "Parse:\n",
      " [($E ('~', ('OpSqr', 3)))\n",
      "  [($UnOp ~) minus]\n",
      "  [($E ('OpSqr', 3)) [($E 3) three] [($UnOpPost OpSqr) squared]]\n",
      "]\n",
      "Denotation: -9\n",
      "\n",
      "Parse:\n",
      " [($E ('OpSqr', ('~', 3)))\n",
      "  [($E ('~', 3)) [($UnOp ~) minus] [($E 3) three]]\n",
      "  [($UnOpPost OpSqr) squared]\n",
      "]\n",
      "Denotation: 9\n",
      "======================================================================\n",
      "four cubed\n",
      "\n",
      "Parse:\n",
      " [($E ('OpCube', 4)) [($E 4) four] [($UnOpPost OpCube) cubed]]\n",
      "Denotation: 64\n",
      "======================================================================\n",
      "four plus four\n",
      "\n",
      "Parse:\n",
      " [($E ('+', 4, 4)) [($EBO ('+', 4)) [($E 4) four] [($BinOp +) plus]] [($E 4) four]]\n",
      "Denotation: 8\n"
     ]
    }
   ],
   "source": [
    "from arithmetic import ArithmeticDomain\n",
    "from parsing import Rule, add_rule\n",
    "\n",
    "# Resort to the original grammar to avoid repeatedly adding the same\n",
    "# rules to the grammar during debugging, which multiplies the number\n",
    "# of parses without changing the set of parses produced:\n",
    "math_domain = ArithmeticDomain()\n",
    "math_grammar = math_domain.grammar()\n",
    "\n",
    "# Here's where your work should go:\n",
    "\n",
    "# Add rules to the grammar:\n",
    "\n",
    "# Extend domain.ops appropriately:\n",
    "math_domain.ops['OpSqr'] = lambda x: x * x\n",
    "math_domain.ops['OpCube'] = lambda x: x * x * x\n",
    "\n",
    "\n",
    "print(math_domain.ops)\n",
    "\n",
    "add_rule(math_grammar, Rule('$UnOpPost', 'squared', 'OpSqr'))\n",
    "add_rule(math_grammar, Rule('$UnOpPost', 'cubed', 'OpCube'))\n",
    "add_rule(math_grammar, Rule('$E', '$E $UnOpPost', lambda sems: (sems[1], sems[0])))\n",
    "#add_rule(math_grammar, Rule('$')\n",
    "#add_rule(math_grammar, Rule('$E', '$EUP'))\n",
    "\n",
    "\n",
    "# Make sure things are working:\n",
    "display_examples(('three squared', 'minus three squared', 'four cubed', 'four plus four'), \n",
    "                 grammar=math_grammar, domain=math_domain)"
   ]
  },
  {
   "cell_type": "markdown",
   "metadata": {},
   "source": [
    "### Question 2\n",
    "\n",
    "Your task is to extend `ArithmeticDomain` to support numbers with decimals, so \n",
    "that you can parse all expressions of the form `N point D` where `N` and `D` both denote\n",
    "`int`s. You can assume that both numbers are both spelled out as single words, as in\n",
    "\"one point twelve\" rather than \"one point one two\". (The grammar fragment has only \"one\",\n",
    "\"two\", \"three\", and \"four\" anyway.) __Submit__: your completion of the following code.\n",
    "\n",
    "__Important__: your grammar should not create spurious parses like `(two times three) point four`. \n",
    "This means that you can't treat `point` like the other binary operators in your syntactic grammar. \n",
    "This will require you to add special rules to handle the internal structure of these decimal numbers."
   ]
  },
  {
   "cell_type": "code",
   "execution_count": 59,
   "metadata": {
    "collapsed": false
   },
   "outputs": [
    {
     "ename": "SyntaxError",
     "evalue": "invalid syntax (<ipython-input-59-52f27bb02339>, line 34)",
     "output_type": "error",
     "traceback": [
      "\u001b[1;36m  File \u001b[1;32m\"<ipython-input-59-52f27bb02339>\"\u001b[1;36m, line \u001b[1;32m34\u001b[0m\n\u001b[1;33m    math_domain.ops['create_decimal'] = lambda x,y: x + (y*0.1)]\u001b[0m\n\u001b[1;37m                                                               ^\u001b[0m\n\u001b[1;31mSyntaxError\u001b[0m\u001b[1;31m:\u001b[0m invalid syntax\n"
     ]
    }
   ],
   "source": [
    "from arithmetic import ArithmeticDomain\n",
    "from parsing import Rule, add_rule\n",
    "\n",
    "# Clear out the grammar; remove this if you want your question 1 \n",
    "# extension to combine with these extensions:\n",
    "math_domain = ArithmeticDomain()\n",
    "math_grammar = math_domain.grammar()\n",
    "\n",
    "# Remember to add these rules to the grammar!\n",
    "integer_rules = [ \n",
    "    Rule('$I', 'one', 1), \n",
    "    Rule('$I', 'two', 2), \n",
    "    Rule('$I', 'three', 3), \n",
    "    Rule('$I', 'four', 4) ]\n",
    "\n",
    "tens_rules = [\n",
    "    Rule('$T', 'one', 1),\n",
    "    Rule('$T', 'two', 2),\n",
    "    Rule('$T', 'three', 3),\n",
    "    Rule('$T', 'four', 4) ]\n",
    "\n",
    "# Add the above rules to math_grammar:\n",
    "for ruleset in [integer_rules, tens_rules]:\n",
    "    for rule in ruleset:\n",
    "        add_rule(math_grammar, rule)\n",
    "\n",
    "\n",
    "# Add rules to the grammar for using the above:\n",
    "add_rule(math_grammar, Rule('$DP', 'point'))\n",
    "add_rule(math_grammar, Rule('$DIP', '$I $DP', lambda sems: ('create_decimal', sems[0])))# Decimal Integer portion\n",
    "add_rule(math_grammar, Rule('$E', '$DIP $T', lambda sems: (sems[0][0], sems[0][1], sems[1])))\n",
    "\n",
    "# Extend domain.ops:\n",
    "math_domain.ops['create_decimal'] = lambda x,y: x + (y*0.1)]\n",
    "\n",
    "# Make sure things are working:\n",
    "display_examples(('four point two', 'minus four point one', 'two minus four point one'),\n",
    "                 grammar=math_grammar, domain=math_domain)"
   ]
  },
  {
   "cell_type": "markdown",
   "metadata": {},
   "source": [
    "### Question 3\n",
    "\n",
    "Extend the grammar to support the multi-word expression `the average of` as \n",
    "in `the average of one and four`.\n",
    "Your solution is required to treat each word in this multi-word expression as its own lexical item.\n",
    "Other than that, you have a lot of design freedom.\n",
    "Your solution can be limited to the case where the conjunction consists of just two numbers.\n",
    "__Submit__: your completion of this starter code."
   ]
  },
  {
   "cell_type": "code",
   "execution_count": null,
   "metadata": {
    "collapsed": false
   },
   "outputs": [],
   "source": [
    "from arithmetic import ArithmeticDomain\n",
    "from parsing import Rule, add_rule\n",
    "import numpy as np\n",
    "\n",
    "math_domain = ArithmeticDomain()\n",
    "math_grammar = math_domain.grammar()\n",
    "\n",
    "# Add rules to the grammar:\n",
    "\n",
    "# Extend domain.ops:\n",
    "\n",
    "# Make sure things are working:\n",
    "display_examples(('the one', 'the average of one and four'),\n",
    "                 grammar=math_grammar, domain=math_domain)"
   ]
  },
  {
   "cell_type": "markdown",
   "metadata": {},
   "source": [
    "## Travel domain"
   ]
  },
  {
   "cell_type": "markdown",
   "metadata": {},
   "source": [
    "Here's an illustration of how parsing and interpretation work in this domain:"
   ]
  },
  {
   "cell_type": "code",
   "execution_count": null,
   "metadata": {
    "collapsed": false
   },
   "outputs": [],
   "source": [
    "from travel import TravelDomain\n",
    "\n",
    "travel_domain = TravelDomain()\n",
    "travel_grammar = travel_domain.grammar()\n",
    "\n",
    "display_examples(\n",
    "    (\"flight from Boston to San Francisco\",\n",
    "     \"directions from New York to Philadelphia\",\n",
    "     \"directions New York to Philadelphia\"),\n",
    "    grammar=travel_grammar,\n",
    "    domain=travel_domain)"
   ]
  },
  {
   "cell_type": "markdown",
   "metadata": {},
   "source": [
    "For these questions, we'll combine grammars with machine learning.\n",
    "Here's now to train and evaluate a model using the grammar \n",
    "that is included in `TravelDomain` along with a basic feature\n",
    "function."
   ]
  },
  {
   "cell_type": "code",
   "execution_count": null,
   "metadata": {
    "collapsed": false
   },
   "outputs": [],
   "source": [
    "from travel import TravelDomain\n",
    "from scoring import Model\n",
    "from experiment import train_test\n",
    "from travel_examples import travel_train_examples, travel_test_examples\n",
    "from collections import defaultdict\n",
    "\n",
    "travel_domain = TravelDomain()\n",
    "travel_grammar = travel_domain.grammar()\n",
    "\n",
    "def basic_feature_function(parse):\n",
    "    \"\"\"Features for the rule used for the root node and its children\"\"\"\n",
    "    features = defaultdict(float)\n",
    "    features[str(parse.rule)] += 1.0\n",
    "    for child in parse.children:\n",
    "        features[str(child.rule)] += 1.0\n",
    "    return features\n",
    "        \n",
    "# This code evaluates the current grammar:    \n",
    "train_test(\n",
    "    model=Model(grammar=travel_grammar, feature_fn=basic_feature_function), \n",
    "    train_examples=travel_train_examples, \n",
    "    test_examples=travel_test_examples, \n",
    "    print_examples=False)"
   ]
  },
  {
   "cell_type": "markdown",
   "metadata": {},
   "source": [
    "### Question 4\n",
    "\n",
    "With the default travel grammar, many of the errors on training examples occur because the origin \n",
    "isn't marked by \"from\". You might have noticed that \"directions New York to Philadelphia\"\n",
    "is not handled properly in our opening example. Other examples include \n",
    "\"transatlantic cruise southampton to tampa\", \n",
    "\"fly boston to myrtle beach spirit airlines\", and \n",
    "\"distance usa to peru\". __Your tasks__: (i) extend the grammar with a single rule to handle examples \n",
    "like these, and run another evaluation using this expanded grammar (submit your completion\n",
    "of the following starter code); (ii) in 1&ndash;2 sentences,\n",
    "summarize what happened to the post-training performance metrics when this rule was added."
   ]
  },
  {
   "cell_type": "code",
   "execution_count": null,
   "metadata": {
    "collapsed": false
   },
   "outputs": [],
   "source": [
    "from travel import TravelDomain\n",
    "from parsing import Rule, add_rule\n",
    "from scoring import Model\n",
    "from experiment import train_test\n",
    "from travel_examples import travel_train_examples, travel_test_examples\n",
    "\n",
    "travel_domain = TravelDomain()\n",
    "travel_grammar = travel_domain.grammar()\n",
    "\n",
    "# Add your rule here:\n",
    "\n",
    "# This code evaluates the new grammar:\n",
    "train_test(\n",
    "    model=Model(grammar=travel_grammar, feature_fn=basic_feature_function), \n",
    "    train_examples=travel_train_examples, \n",
    "    test_examples=travel_test_examples, \n",
    "    print_examples=False)"
   ]
  },
  {
   "cell_type": "markdown",
   "metadata": {},
   "source": [
    "### Question 5\n",
    "\n",
    "Your extended grammar for question 4 likely did some harm to the space of parses we \n",
    "consider. Consider how `number of parses` has changed. (If it's not intuitively clear why, \n",
    "check out some of the parses to see what's happening!)\n",
    "\n",
    "__Your task__: to try to make amends, expand the feature function to improve the \n",
    "ability of the optimizer to distinguish good parses from bad. You can write your\n",
    "own function and/or combine it with scoring functions that are available inside\n",
    "SippyCup. You should be able to achieve a gain in post-training train and\n",
    "test `semantics accuracy`. (Note: you should _not_ spend hours continually improving \n",
    "your score unless you are planning to develop this into a project. Any gain over\n",
    "the previous run will suffice here.) __Submit__: your completion of this code."
   ]
  },
  {
   "cell_type": "code",
   "execution_count": null,
   "metadata": {
    "collapsed": false
   },
   "outputs": [],
   "source": [
    "from parsing import Parse\n",
    "\n",
    "def expanded_feature_function(parse):  \n",
    "    pass\n",
    "\n",
    "# Evaluate the new grammar:\n",
    "train_test(\n",
    "    model=Model(grammar=travel_grammar, feature_fn=expanded_feature_function), \n",
    "    train_examples=travel_train_examples, \n",
    "    test_examples=travel_test_examples, \n",
    "    print_examples=False)"
   ]
  },
  {
   "cell_type": "markdown",
   "metadata": {
    "collapsed": true
   },
   "source": [
    "## GeoQuery domain"
   ]
  },
  {
   "cell_type": "markdown",
   "metadata": {},
   "source": [
    "Here are a few simple examples from the GeoQuery domain:"
   ]
  },
  {
   "cell_type": "code",
   "execution_count": null,
   "metadata": {
    "collapsed": false
   },
   "outputs": [],
   "source": [
    "from geoquery import GeoQueryDomain\n",
    "\n",
    "geo_domain = GeoQueryDomain()\n",
    "geo_grammar = geo_domain.grammar()\n",
    "\n",
    "display_examples(\n",
    "    (\"what is the biggest city in california ?\",\n",
    "     \"how many people live in new york ?\",\n",
    "     \"where is rochester ?\"),\n",
    "    grammar=geo_grammar,\n",
    "    domain=geo_domain)"
   ]
  },
  {
   "cell_type": "markdown",
   "metadata": {},
   "source": [
    "And we can train models just as we did for the travel domain, though we have to be more\n",
    "attentive to special features of semantic parsing in this domain. Here's a run with the\n",
    "default scoring model, metrics, etc.:"
   ]
  },
  {
   "cell_type": "code",
   "execution_count": null,
   "metadata": {
    "collapsed": false
   },
   "outputs": [],
   "source": [
    "from geoquery import GeoQueryDomain\n",
    "from scoring import Model\n",
    "from experiment import train_test\n",
    "\n",
    "geo_domain = GeoQueryDomain()\n",
    "geo_grammar = geo_domain.grammar()\n",
    "\n",
    "# We'll use this as our generic assessment interface for these questions:\n",
    "def special_geo_evaluate(grammar=None, feature_fn=geo_domain.features):\n",
    "    # Build the model by hand so that we can see all the pieces:\n",
    "    geo_mod = Model(\n",
    "        grammar=grammar, \n",
    "        feature_fn=feature_fn, \n",
    "        weights=geo_domain.weights(),\n",
    "        executor=geo_domain.execute)\n",
    "    # This can be done with less fuss using experiment.train_test_for_domain, \n",
    "    # but we want full access to the model, metrics, etc.\n",
    "    train_test(\n",
    "        model=geo_mod, \n",
    "        train_examples=geo_domain.train_examples(), \n",
    "        test_examples=geo_domain.test_examples(), \n",
    "        metrics=geo_domain.metrics(),\n",
    "        training_metric=geo_domain.training_metric(),    \n",
    "        seed=0,\n",
    "        print_examples=False)\n",
    "    \n",
    "special_geo_evaluate(grammar=geo_grammar)"
   ]
  },
  {
   "cell_type": "markdown",
   "metadata": {},
   "source": [
    "### Question 6\n",
    "\n",
    "Two deficiencies of the current grammar: \n",
    "\n",
    "* The words \"where\" and \"is\" are treated as being of category `$Optional`, which means they are ignored. As a result, the grammar construes all questions of the form \"where is X\" as being about the identity of X!\n",
    "\n",
    "* Queries like \"how many people live in Florida\" are not handled correctly.\n",
    "\n",
    "__Your task__: Add grammar rules that address these problems and assess impact of the changes\n",
    "using the `train_test` based interface illustrated above. \n",
    "__Submit__: your expanded version of the starter code below."
   ]
  },
  {
   "cell_type": "code",
   "execution_count": null,
   "metadata": {
    "collapsed": false
   },
   "outputs": [],
   "source": [
    "from geoquery import GeoQueryDomain\n",
    "from parsing import Rule, add_rule\n",
    "\n",
    "geo_domain = GeoQueryDomain()\n",
    "geo_grammar = geo_domain.grammar()\n",
    "\n",
    "# Your rules go here:\n",
    "\n",
    "# Evaluation of the new grammar:\n",
    "special_geo_evaluate(grammar=geo_grammar)"
   ]
  },
  {
   "cell_type": "markdown",
   "metadata": {},
   "source": [
    "### Question 7\n",
    "\n",
    "The success of the `empty_denotation` feature demonstrates the potential of denotation features. Can we go further?  Experiment with a feature or features that characterize the _size_ of the denotation (that is, the number of answers). This will involve extending `geo_domain.features` and running another assessment. __Submit__: your completion of the \n",
    "code below and 1&ndash;2 sentences saying how this feature seems to behave in the model."
   ]
  },
  {
   "cell_type": "code",
   "execution_count": null,
   "metadata": {
    "collapsed": false
   },
   "outputs": [],
   "source": [
    "from geoquery import GeoQueryDomain\n",
    "\n",
    "def feature_function(parse):\n",
    "    # Bring in all the default features:\n",
    "    f = geo_domain.features(parse)\n",
    "    # Extend dictionary f with your new denotation-count feature\n",
    "    \n",
    "    return f\n",
    "\n",
    "# Evaluation of the new grammar:\n",
    "special_geo_evaluate(grammar=geo_grammar, feature_fn=feature_function)"
   ]
  }
 ],
 "metadata": {
  "anaconda-cloud": {},
  "kernelspec": {
   "display_name": "Python [Root]",
   "language": "python",
   "name": "Python [Root]"
  },
  "language_info": {
   "codemirror_mode": {
    "name": "ipython",
    "version": 3
   },
   "file_extension": ".py",
   "mimetype": "text/x-python",
   "name": "python",
   "nbconvert_exporter": "python",
   "pygments_lexer": "ipython3",
   "version": "3.5.2"
  }
 },
 "nbformat": 4,
 "nbformat_minor": 0
}
